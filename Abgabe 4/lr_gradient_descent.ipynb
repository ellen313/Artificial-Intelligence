{
 "cells": [
  {
   "cell_type": "markdown",
   "metadata": {
    "colab_type": "text",
    "id": "QIiKFIAOBdNR"
   },
   "source": [
    "\n",
    "## Demonstration of the Gradient descent method for a linear regression model with one tunable parameter \n",
    "\n",
    "**Goal:** In this notebook you will see how the MSE loss of a simple linear regression depends on the value of the slope parameter (keeping the intercept to the optimal value). You will see that the optimal slope value can be found via gradient descent (GD) when computing the gradient of the loss w.r.t the slope via the gradient formula und updating the slope value via the update formula.\n",
    "\n",
    "**Usage:** The idea of the notebook is that you try to understand the provided code by running it, checking the output and playing with it by slightly changing the code and rerunning it. Some positions are marked as exercises, where you find some more specific tasks.\n",
    "\n",
    "**Dataset:** You work with the systolic blood pressure and age data of 33 American women, which is in the upper part of the notebook generated and visualized.  \n",
    "\n",
    "**Content:**\n",
    " \n",
    "* fit a linear model via the sklearn machine learning library of python to get the optimal fitted values of the intercept and slope as reference. \n",
    "\n",
    "* use some initial values for the intercept and slope and compute the MSE loss of the corresponding regression model. \n",
    "\n",
    "* use the formula for the optimal intercept and slope values and compute again the corresponding mse loss\n",
    "\n",
    "* fix the intercept paramber to the optimal value and plot the loss versus the tunable slope parameter.\n",
    "\n",
    "* initialize the slope value with -0.5\n",
    "\n",
    "* compute the gradient of the loss w.r.t. the slope parameter via the gradient formula and update the the slope value via the update formula\n",
    "\n",
    "* iterate over the former step and check the current values of the estimated model parameter and the loss after each step. Visualize the development of the slope value in the loss-vs-slope plot.\n",
    "\n",
    "* verify that the estimated slope value converges to the value which you got from the sklearn fit\n",
    "\n",
    "* Play around with the learning rate eta and observe the impact on the update behaviour"
   ]
  },
  {
   "cell_type": "markdown",
   "metadata": {
    "colab_type": "text",
    "id": "ApIdYV0Ad948"
   },
   "source": [
    "##         “Hello world” in curve fitting\n"
   ]
  },
  {
   "cell_type": "markdown",
   "metadata": {
    "colab_type": "text",
    "id": "8vWzIzzZVHj8"
   },
   "source": [
    "#### Imports"
   ]
  },
  {
   "cell_type": "code",
   "execution_count": 1,
   "metadata": {
    "colab": {},
    "colab_type": "code",
    "id": "nwsw1rEWULea"
   },
   "outputs": [],
   "source": [
    "import numpy as np\n",
    "import matplotlib.pyplot as plt\n",
    "%matplotlib inline\n",
    "plt.style.use('default')\n",
    "from sklearn.linear_model import LinearRegression"
   ]
  },
  {
   "cell_type": "markdown",
   "metadata": {
    "colab_type": "text",
    "id": "0bd-lcW1VTbk"
   },
   "source": [
    "#### Blood Pressure data \n",
    "Here we read in the systolic blood pressure and the age of the 33 American women in our dataset."
   ]
  },
  {
   "cell_type": "code",
   "execution_count": 2,
   "metadata": {
    "colab": {},
    "colab_type": "code",
    "id": "VMoG0p0kUT6b"
   },
   "outputs": [],
   "source": [
    "# Blood Pressure data\n",
    "x = [22, 41, 52, 23, 41, 54, 24, 46, 56, 27, 47, 57, 28, 48, 58,  9, \n",
    "     49, 59, 30, 49, 63, 32, 50, 67, 33, 51, 71, 35, 51, 77, 40, 51, 81]\n",
    "y = [131, 139, 128, 128, 171, 105, 116, 137, 145, 106, 111, 141, 114, \n",
    "     115, 153, 123, 133, 157, 117, 128, 155, 122, 183,\n",
    "     176,  99, 130, 172, 121, 133, 178, 147, 144, 217] \n",
    "x = np.asarray(x, np.float32) \n",
    "y = np.asarray(y, np.float32) "
   ]
  },
  {
   "cell_type": "markdown",
   "metadata": {
    "colab_type": "text",
    "id": "qvI0ZF_c8gIV"
   },
   "source": [
    "Let plot the data in a scatter plot and use the sklearn library to fit the linear model to determine and the opimal values for the slope a and the intercept b. "
   ]
  },
  {
   "cell_type": "code",
   "execution_count": 3,
   "metadata": {
    "colab": {
     "base_uri": "https://localhost:8080/",
     "height": 490
    },
    "colab_type": "code",
    "id": "4xhW8KrNUUKw",
    "outputId": "37ba8f3d-722d-4205-e359-5b8a9449e8da"
   },
   "outputs": [
    {
     "data": {
      "image/png": "[encoded data removed]",
      "text/plain": [
       "<Figure size 640x480 with 1 Axes>"
      ]
     },
     "metadata": {},
     "output_type": "display_data"
    },
    {
     "name": "stdout",
     "output_type": "stream",
     "text": [
      "intercept =  87.67143 solpe =  1.1050216\n"
     ]
    }
   ],
   "source": [
    "plt.scatter(x=x, y=y)\n",
    "plt.title(\"blood pressure vs age\")\n",
    "plt.xlabel(\"x (age)\")\n",
    "plt.ylabel(\"y (sbp)\")\n",
    "\n",
    "model = LinearRegression()\n",
    "res = model.fit(x.reshape((len(x),1)), y) # Fitting the linear regression\n",
    "predictions = model.predict(x.reshape((len(x),1))) \n",
    "plt.plot(x, predictions)\n",
    "plt.show()\n",
    "print(\"intercept = \",res.intercept_,\"solpe = \", res.coef_[0])"
   ]
  },
  {
   "cell_type": "markdown",
   "metadata": {
    "colab_type": "text",
    "id": "Z1ZvkAEjY12c"
   },
   "source": [
    "####  MSE for the first 5 data points\n",
    "\n",
    "In the next cell for calculate and print the mean squared error (MSE) loss for the first 5 data points with our starting values a=1 and b=100. Compare the result with the book."
   ]
  },
  {
   "cell_type": "code",
   "execution_count": null,
   "metadata": {
    "colab": {
     "base_uri": "https://localhost:8080/",
     "height": 35
    },
    "colab_type": "code",
    "id": "XVpMe-75Y12e",
    "outputId": "9b76b58d-5f2d-41e5-8961-1720a56b2248"
   },
   "outputs": [
    {
     "data": {
      "text/plain": [
       "np.float32(317.2)"
      ]
     },
     "execution_count": 4,
     "metadata": {},
     "output_type": "execute_result"
    }
   ],
   "source": [
    "x_sub = x[0:5] #extract the first 5 data points of x \n",
    "y_sub = y[0:5] #extract the first 5 data points of y\n",
    "a = 1                            \n",
    "b = 100                          \n",
    "y_hat = a*x_sub + b                  \n",
    "r = (y_sub - y_hat)                  \n",
    "MSE = np.sum(np.square(r)) / len(y_sub)     \n",
    "MSE"
   ]
  },
  {
   "cell_type": "markdown",
   "metadata": {
    "colab_type": "text",
    "id": "Q0w2rDr-Y682"
   },
   "source": [
    "####  MSE for all data points\n",
    "\n",
    "In the next cell for calculate and print the mean squared error (MSE) loss with our starting values a=1 and b=100."
   ]
  },
  {
   "cell_type": "markdown",
   "metadata": {
    "colab_type": "text",
    "id": "myPqu_Tyxw_U"
   },
   "source": [
    "#### Listing 3.1  Calculation of the MSE in Python / numpy \n"
   ]
  },
  {
   "cell_type": "code",
   "execution_count": 5,
   "metadata": {
    "colab": {
     "base_uri": "https://localhost:8080/",
     "height": 35
    },
    "colab_type": "code",
    "id": "GRGE4hjdXagX",
    "outputId": "0042fe6f-c9d7-40e1-bad3-dafab4ba6f52"
   },
   "outputs": [
    {
     "data": {
      "text/plain": [
       "np.float32(408.15152)"
      ]
     },
     "execution_count": 5,
     "metadata": {},
     "output_type": "execute_result"
    }
   ],
   "source": [
    "# Function to calculate the mean squared error\n",
    "def calculate_MSE(a,b,x,y):\n",
    "    y_hat = a*x + b                  \n",
    "    r = (y - y_hat)                  \n",
    "    MSE = np.sum(np.square(r)) / len(y)     \n",
    "    return MSE\n",
    "\n",
    "calculate_MSE(a,b,x,y)"
   ]
  },
  {
   "cell_type": "markdown",
   "metadata": {
    "colab_type": "text",
    "id": "aRTSy8tzYS3K"
   },
   "source": [
    "#### Minimize the MSE by randomly trying different values for the slope a and the intercept \n",
    "<img src=\"https://raw.githubusercontent.com/tensorchiefs/dl_book/master/imgs/paper-pen.png\" width=\"60\" align=\"left\" />  \n",
    "*Exercise 1: Try to find better values for a and b (by randolmly increasing/decreasing a and/or b), yielding a lower MSE. \n",
    "Remember that for a=1 and b=100 the MSE is 408.15*\n",
    "\n"
   ]
  },
  {
   "cell_type": "code",
   "execution_count": 22,
   "metadata": {
    "colab": {
     "base_uri": "https://localhost:8080/",
     "height": 35
    },
    "colab_type": "code",
    "id": "JSurLqCDWA_B",
    "outputId": "15396aa8-307f-4093-8122-c699e3c0afc4"
   },
   "outputs": [
    {
     "data": {
      "text/plain": [
       "np.float32(360.37457)"
      ]
     },
     "execution_count": 22,
     "metadata": {},
     "output_type": "execute_result"
    }
   ],
   "source": [
    "a = 0.9                            # try a diffrent value for a here that minimizes the MSE \n",
    "b = 97                             # try a diffrent value for b here that minimizes the MSE\n",
    "\n",
    "calculate_MSE(a,b,x,y)"
   ]
  },
  {
   "cell_type": "markdown",
   "metadata": {},
   "source": [
    "#### To calculate the optimal values we calculate the \n",
    "\n",
    "$$\n",
    "\\frac{\\partial MSE}{\\partial a} = -\\frac{2}{n} \\sum_{i=1}^{n} x_i (y_i - (ax_i + b)) \\\\\n",
    "\n",
    "\\frac{\\partial MSE}{\\partial b} = -\\frac{2}{n} \\sum_{i=1}^{n} (y_i - (ax_i + b))\n",
    "$$\n",
    "\n",
    "we set them to zero and solve for a and b getting the closed from solutions."
   ]
  },
  {
   "cell_type": "markdown",
   "metadata": {
    "colab_type": "text",
    "id": "ZA4ouvora5zG"
   },
   "source": [
    "#### Using the closed form solution to minimize the MSE with a and b\n",
    "\n",
    "Now we determine the optimal values for the slope a and intercept b with the closed solution formula and inspect the achived values for the parameters and the MSE. If you compare the results with the ones form the skleran linear regression fit, you see that they are equal.   \n",
    "\n",
    "#### Closed form solution:\n",
    "$$\\hat{\\alpha} = \\frac{\\sum\\limits_{i=1}^{n}(x_i – \\bar{x}) (y_i – \\bar{y})} {\\sum\\limits_{i=1}^{n}(x_i – \\bar{x})^2}$$  \n",
    "$$\\hat{\\beta} = \\bar{y} – \\hat{\\alpha} \\bar{x} $$\n",
    "\n",
    "\n",
    "We get the same values as from the sklearn fit.\n",
    "\n"
   ]
  },
  {
   "cell_type": "code",
   "execution_count": 23,
   "metadata": {
    "colab": {
     "base_uri": "https://localhost:8080/",
     "height": 69
    },
    "colab_type": "code",
    "id": "ynaBwMiMa4se",
    "outputId": "783b3de8-9251-4112-a858-3c92a881e97d"
   },
   "outputs": [
    {
     "name": "stdout",
     "output_type": "stream",
     "text": [
      "slope : a_hat =  1.1050217\n",
      "intercept : b_hat =  87.67143\n",
      "minimal MSE =  349.2009\n"
     ]
    }
   ],
   "source": [
    "a_hat = np.sum((x-np.mean(x))*((y-np.mean(y)))) / (np.sum(np.square(x-np.mean(x))))\n",
    "b_hat = np.mean(y) - a_hat*np.mean(x)\n",
    "\n",
    "                \n",
    "                \n",
    "                \n",
    "MSE = calculate_MSE(a_hat,b_hat,x,y)\n",
    "print(\"slope : a_hat = \" ,a_hat)\n",
    "print(\"intercept : b_hat = \" ,b_hat)\n",
    "print(\"minimal MSE = \", MSE)"
   ]
  },
  {
   "cell_type": "markdown",
   "metadata": {
    "colab_type": "text",
    "id": "vidTD2l2gq8Q"
   },
   "source": [
    "##        Gradient descent method with one tunable parameter\n",
    "Now we use the gradient descent method in 1 dimension to find the optinal value for the slope a. For this we fix the intercept to the optimal value b=87.6 and calculate the MSE loss for diffrent values of the slope a. Then we plot the loss as a function of the slope."
   ]
  },
  {
   "cell_type": "code",
   "execution_count": 19,
   "metadata": {
    "colab": {},
    "colab_type": "code",
    "id": "ZK9CtBAUbx5y"
   },
   "outputs": [],
   "source": [
    "b = 87.67 # Optimal parameter for b\n",
    "a = np.arange(-1, 2, 0.02)\n",
    "MSE=np.zeros(len(a))\n",
    "for i in range(0,len(a)):\n",
    "  MSE[i] =  calculate_MSE(a[i],b,x,y)"
   ]
  },
  {
   "cell_type": "code",
   "execution_count": 20,
   "metadata": {
    "colab": {
     "base_uri": "https://localhost:8080/",
     "height": 473
    },
    "colab_type": "code",
    "id": "uh1kLv2lrOjK",
    "outputId": "54d2cead-5cd7-4dc6-9a1d-891ed65c69b9"
   },
   "outputs": [
    {
     "data": {
      "image/png": "[encoded data removed]",
      "text/plain": [
       "<Figure size 640x480 with 1 Axes>"
      ]
     },
     "metadata": {},
     "output_type": "display_data"
    }
   ],
   "source": [
    "plt.plot(a,MSE)\n",
    "plt.title(\"MSE in in dependency of a, wtih fixed value for b = 87.6\")\n",
    "plt.xlabel(\"slope a\")\n",
    "plt.ylabel(\"MSE\")\n",
    "plt.show()"
   ]
  },
  {
   "cell_type": "markdown",
   "metadata": {
    "colab_type": "text",
    "id": "AspeSG1i5jpQ"
   },
   "source": [
    "#### Change the learning rate and study how the slope a gets updated\n",
    "Let's use the gradient descent method in 1 dimension to find the a better value for a. We start with a = -0.5 and a learning rate eta = 0.0003 and make 5 update steps. \n",
    "\n",
    "\n",
    "<img src=\"https://raw.githubusercontent.com/tensorchiefs/dl_book/master/imgs/paper-pen.png\" width=\"60\" align=\"left\" />  \n",
    "Exercise 2 : Run the two cells below and then try to find a better learning rate eta that reaches the optimal value for a faster (less update steps). Try larger and smaller values. What do you observe?\n"
   ]
  },
  {
   "cell_type": "code",
   "execution_count": null,
   "metadata": {
    "colab": {
     "base_uri": "https://localhost:8080/",
     "height": 35
    },
    "colab_type": "code",
    "id": "5pDf5CweovQA",
    "outputId": "bb3f395e-dfee-4ee6-a0d6-1273ac8fc406"
   },
   "outputs": [
    {
     "name": "stdout",
     "output_type": "stream",
     "text": [
      "[-0.5         0.86397576  0.92256886  0.92508584  0.92519397  0.92519861]\n"
     ]
    }
   ],
   "source": [
    "a_ = -0.5\n",
    "a_history = -0.5\n",
    "eta = 0.0003\n",
    "#eta = 0.0001\n",
    "for i in range(0,5):\n",
    "  grad_a = -2/len(y)*np.sum((y -a_ * x - b) *x) \n",
    "  a_ = a_ - eta*grad_a\n",
    "  a_history =np.append(a_history,a_) \n",
    "print(a_history)"
   ]
  },
  {
   "cell_type": "code",
   "execution_count": 39,
   "metadata": {
    "colab": {
     "base_uri": "https://localhost:8080/",
     "height": 473
    },
    "colab_type": "code",
    "id": "sYVYl_tr_Qgq",
    "outputId": "0764b1d7-4bef-4c4b-c369-3c699c6e4f1f"
   },
   "outputs": [
    {
     "data": {
      "image/png": "[encoded data removed]",
      "text/plain": [
       "<Figure size 640x480 with 1 Axes>"
      ]
     },
     "metadata": {},
     "output_type": "display_data"
    }
   ],
   "source": [
    "# Visualization of the learning process\n",
    "plt.plot(a,MSE)\n",
    "plt.title(\"MSE in in dependency of a, wtih fixed value for b = 87.6\")\n",
    "plt.xlabel(\"slope a\")\n",
    "plt.ylabel(\"MSE\")\n",
    "plt.ylim((0,10000))\n",
    "plt.xlim((-2,2))\n",
    "\n",
    "for i in range(0,len(a_history)):\n",
    "  plt.vlines(x=a_history[i],ymin=0,ymax= np.mean(np.square(y-(a_history[i] * x + b))))\n",
    "  plt.text(x=a_history[i],y= np.mean(np.square(y-(a_history[i] * x + b)))+600,s= i,horizontalalignment='center',verticalalignment='center',fontsize=12)\n",
    "for i in range(0,len(a_history)-1):\n",
    "  plt.plot([a_history[i], a_history[i+1]],[np.mean(np.square(y-(a_history[i] * x + b))), np.mean(np.square(y-(a_history[i+1] * x + b)))])\n",
    "plt.show()"
   ]
  },
  {
   "cell_type": "markdown",
   "metadata": {},
   "source": [
    "**Antwort:**\n",
    "- Zu kleine Lernrate (z.B. 0.0001): Schritte sind sehr klein, a ändert sich langsam, MSE sinkt langsam.\n",
    "- Optimale Lernrate (z.B. 0.0003 bis 0.001): a bewegt sich zügig und stabil Richtung optimalem Wert. MSE sinkt schnell und gleichmäßig.\n",
    "- Zu große Lernrate (z.B. 0.01 oder mehr): Updates sind zu groß, a springt hin und her, MSE schwankt oder steigt. Kein stabiles Konvergieren."
   ]
  },
  {
   "cell_type": "markdown",
   "metadata": {},
   "source": [
    "### Automatic differentiation\n",
    "\n",
    "Note that instead of manully calculating the gradient of the loss, we could also use the automatic differentiation feature This is shown in the next cell. Where we use the `autograd` library to calculate the gradient of\n",
    "$$\n",
    "3 \\cdot x^2 + 2 \\cdot x + 1\n",
    "$$\n",
    "\n",
    "At the position 2"
   ]
  },
  {
   "cell_type": "code",
   "execution_count": 42,
   "metadata": {},
   "outputs": [
    {
     "data": {
      "text/plain": [
       "np.float64(14.0)"
      ]
     },
     "execution_count": 42,
     "metadata": {},
     "output_type": "execute_result"
    }
   ],
   "source": [
    "#%pip install autograd\n",
    "import autograd.numpy as np\n",
    "from autograd import grad\n",
    "\n",
    "# Define your function\n",
    "def func(x):\n",
    "    return 3 * x ** 2 + 2 * x + 1\n",
    "\n",
    "# Compute the gradient of the function\n",
    "grad_func = grad(func)\n",
    "grad_func(2.0)"
   ]
  }
 ],
 "metadata": {
  "colab": {
   "collapsed_sections": [],
   "name": "nb_ch03_01.ipynb",
   "provenance": []
  },
  "kernelspec": {
   "display_name": "Python 3",
   "language": "python",
   "name": "python3"
  },
  "language_info": {
   "codemirror_mode": {
    "name": "ipython",
    "version": 3
   },
   "file_extension": ".py",
   "mimetype": "text/x-python",
   "name": "python",
   "nbconvert_exporter": "python",
   "pygments_lexer": "ipython3",
   "version": "3.13.0"
  }
 },
 "nbformat": 4,
 "nbformat_minor": 1
}
