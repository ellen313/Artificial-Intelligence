{
  "cells": [
    {
      "cell_type": "markdown",
      "metadata": {
        "id": "PohCF88YwWgk"
      },
      "source": [
        "# Aufgaben Blatt 4 KI Machine Learning I\n",
        "\n"
      ]
    },
    {
      "cell_type": "markdown",
      "metadata": {
        "id": "r9sieFkrwWgm"
      },
      "source": [
        "## Aufgabe 1 (Lineare Regression)\n",
        "\n",
        "Bearbeiten Sie die Aufgabe https://github.com/oduerr/ki/blob/main/linear_regression/lr_gradient_descent.ipynb\n",
        "\n",
        "Versuchen Sie den Code zu verstehen und machen die kleineren Aufgaben, die in dem notebook besprochen werden."
      ]
    },
    {
      "cell_type": "markdown",
      "metadata": {
        "id": "hr2BSdsNwWgm"
      },
      "source": [
        "## Aufgabe 2 (Titanic)\n",
        "In dieser Aufgabe nehmen Sie an der Titanic Challenge (https://www.kaggle.com/c/titanic) teil. Sie können die Aufgabe am eigenen PC lösen oder direkt in Kaggle lösen. Die Daten liegen auch auf Moodle. "
      ]
    },
    {
      "cell_type": "markdown",
      "metadata": {
        "id": "f-_0tiX-wWgm"
      },
      "source": [
        "a) Lesen Sie die Trainingsdaten ein und teilen Sie sie in ein Validierungsdatenset (20%) und in ein eigentliches Trainigsdatenset (80%) auf. Finden Sie auf dem Trainigsdatenset eine Regel für das Überleben alleine aufgrund der Klasse des Tickets (Pclass). Wenden Sie diese Regel auf die Validierungsdaten an. Wie gut ist die Genauigkeit (Anteil der korrekten Klassifikationen) auf den Validierungsdaten?  "
      ]
    },
    {
      "cell_type": "code",
      "execution_count": null,
      "metadata": {
        "id": "PGm0-jEawWgn"
      },
      "outputs": [
        {
          "name": "stdout",
          "output_type": "stream",
          "text": [
            "Survived         0         1\n",
            "Pclass                      \n",
            "1         0.373563  0.626437\n",
            "2         0.513333  0.486667\n",
            "3         0.775773  0.224227\n",
            "Genauigkeit der Vorhersagen: 0.66\n"
          ]
        }
      ],
      "source": [
        "import pandas as pd # data processing, CSV file I/O (e.g. pd.read_csv)\n",
        "from sklearn.model_selection import train_test_split\n",
        "\n",
        "train_val = pd.read_csv('titanic/train.csv')\n",
        "\n",
        "train_data, val_data = train_test_split(train_val, test_size=0.2, random_state=1) #random state damit das shuffeling reproduzierbar ist\n",
        "\n",
        "# Hinweise zum Erzeugen einer Tabelle\n",
        "# pd.crosstab(...)\n",
        "ctab = pd.crosstab(train_data['Pclass'], train_data['Survived'], normalize='index')\n",
        "print(ctab)\n",
        "\n",
        "# Hinweise um die Accuracy zu berechnen\n",
        "from sklearn.metrics import accuracy_score\n",
        "\n",
        "#Regel: wenn Überlebenschance der Klasse > 0.5, dann gilt, dass vermutlicherweise alle Personen dieser Klasse überleben\n",
        "\n",
        "class_survival_rate = ctab[1]\n",
        "\n",
        "def predict_survival(pclass):\n",
        "    if class_survival_rate[pclass] >= 0.5:\n",
        "        return 1\n",
        "    else:\n",
        "        return 0\n",
        "\n",
        "val_predictions = val_data['Pclass'].apply(predict_survival)\n",
        "\n",
        "accuracy = accuracy_score(val_data['Survived'], val_predictions)\n",
        "print(f\"Genauigkeit der Vorhersagen: {accuracy:.2f}\")"
      ]
    },
    {
      "cell_type": "markdown",
      "metadata": {
        "id": "AAb6YDtTwWgn"
      },
      "source": [
        "b) Wenden Sie die Regel aus a) auf die Testdaten an und laden Sie Ihre Lösung hoch. "
      ]
    },
    {
      "cell_type": "code",
      "execution_count": 18,
      "metadata": {
        "id": "SeplTB8SwWgo",
        "outputId": "98e2e1d5-0b85-4bb6-beb5-25e200b94913"
      },
      "outputs": [
        {
          "name": "stdout",
          "output_type": "stream",
          "text": [
            "Your submission was successfully saved!\n"
          ]
        }
      ],
      "source": [
        "test_data = pd.read_csv('titanic/test.csv')\n",
        "pred_survived = test_data['Pclass'].apply(predict_survival)\n",
        "\n",
        "output = pd.DataFrame({'PassengerId': test_data.PassengerId, 'Survived': pred_survived})\n",
        "output.to_csv('my_submission.csv', index=False)\n",
        "print(\"Your submission was successfully saved!\")\n"
      ]
    },
    {
      "cell_type": "markdown",
      "metadata": {
        "id": "q0YqDhK3wWgp"
      },
      "source": [
        "c) Logistische Regression mit Pclass\n",
        "\n",
        "Trainieren Sie eine logistische Regression mit den Variablen 'Pclass'. Verwenden Sie die Klasse `sklearn.linear_model.LogisticRegression`. Berechnen Sie die Accuracy auf dem Validierungsset."
      ]
    },
    {
      "cell_type": "code",
      "execution_count": 33,
      "metadata": {},
      "outputs": [
        {
          "name": "stdout",
          "output_type": "stream",
          "text": [
            "Genauigkeit: 0.6592179\n"
          ]
        }
      ],
      "source": [
        "import numpy as np\n",
        "import matplotlib.pyplot as plt\n",
        "from sklearn.linear_model import LogisticRegression\n",
        "\n",
        "x_train = train_data[['Pclass']]\n",
        "y_train = train_data['Survived']\n",
        "\n",
        "x_val = val_data[['Pclass']]\n",
        "y_val = val_data['Survived']\n",
        "\n",
        "#Model trainieren\n",
        "model = LogisticRegression()\n",
        "model.fit(x_train, y_train)\n",
        "\n",
        "#trainiertes Model Vorhersagen treffen lassen\n",
        "val_predictions = model.predict(x_val)\n",
        "\n",
        "#Genauigkeit der Vorhersagen berechnen\n",
        "accuracy = accuracy_score(y_val, val_predictions)\n",
        "\n",
        "print(f\"Genauigkeit: {accuracy:.7f}\")\n"
      ]
    },
    {
      "cell_type": "markdown",
      "metadata": {
        "id": "p-xC04XswWgp"
      },
      "source": [
        "d) Coding / Feature engineering \n",
        "\n",
        "d.i) Missing Values:\n",
        "\n",
        "Verwenden Sie nun weitere Features. Die Variable Age enthält Missing values, die Sie durch folgenden code ersetzen können (was passiert da?)"
      ]
    },
    {
      "cell_type": "code",
      "execution_count": 34,
      "metadata": {
        "id": "6i9qi9ywwWgq"
      },
      "outputs": [
        {
          "name": "stdout",
          "output_type": "stream",
          "text": [
            "Genauigkeit mit Pclass und Age: 0.6648045\n"
          ]
        }
      ],
      "source": [
        "#val_data[\"Age\"].fillna(train_data[\"Age\"].median(skipna=True), inplace=True)\n",
        "#train_data[\"Age\"].fillna(train_data[\"Age\"].median(skipna=True), inplace=True)\n",
        "\n",
        "#Berechnet den Median des Age-Werts im Trainingsdatensatz (ohne fehlende Werte zu berücksichtigen)\n",
        "#Ersetzt alle fehlenden Werte (NaN) in der Spalte Age durch diesen Medianwert\n",
        "\n",
        "age_median = train_data[\"Age\"].median(skipna=True)\n",
        "\n",
        "val_data[\"Age\"] = val_data[\"Age\"].fillna(age_median)\n",
        "train_data[\"Age\"] = train_data[\"Age\"].fillna(age_median)\n",
        "\n",
        "#Zwei Merkmale Pclass und Age\n",
        "x_train = train_data[['Pclass', 'Age']]\n",
        "y_train = train_data['Survived']\n",
        "\n",
        "x_val = val_data[['Pclass', 'Age']]\n",
        "y_val = val_data['Survived']\n",
        "\n",
        "#Model trainieren\n",
        "model = LogisticRegression()\n",
        "model.fit(x_train, y_train)\n",
        "\n",
        "# Vorhersage und Accuracy\n",
        "predictions = model.predict(x_val)\n",
        "accuracy = accuracy_score(y_val, predictions)\n",
        "print(f\"Genauigkeit mit Pclass und Age: {accuracy:.7f}\")"
      ]
    },
    {
      "cell_type": "markdown",
      "metadata": {
        "id": "qxNwZco7wWgq"
      },
      "source": [
        "d.ii) Kategorische Variable\n",
        "\n",
        "Verwenden Sie die Funktion `pd.get_dummies` um die Variablen 'Pclass' and 'Sex' in numerische Werte umzuwandeln. Führen Sie nun eine logistische Regression durch."
      ]
    },
    {
      "cell_type": "code",
      "execution_count": null,
      "metadata": {},
      "outputs": [
        {
          "name": "stdout",
          "output_type": "stream",
          "text": [
            "Genauigkeit: 0.8044693\n"
          ]
        }
      ],
      "source": [
        "#Umwandelung in numerische Werte\n",
        "x_train_features = pd.get_dummies(train_data[['Pclass', 'Sex']], drop_first=True) #drop_first lässt ein Kategorie entfallen \n",
        "x_val_features = pd.get_dummies(val_data[['Pclass', 'Sex']], drop_first=True)\n",
        "\n",
        "# Age hinzufügen (weil es numerische Werte sind, werden diese nachhinein hinzugefügt)\n",
        "x_train_features['Age'] = train_data['Age']\n",
        "y_train = train_data['Survived']\n",
        "\n",
        "x_val_features['Age'] = val_data['Age']\n",
        "y_val = val_data['Survived']\n",
        "\n",
        "model = LogisticRegression()\n",
        "model.fit(x_train_features, y_train)\n",
        "\n",
        "val_predictions = model.predict(x_val_features)\n",
        "\n",
        "accuracy = accuracy_score(y_val, val_predictions)\n",
        "print(f\"Genauigkeit: {accuracy:.7f}\")"
      ]
    },
    {
      "cell_type": "markdown",
      "metadata": {
        "id": "yu8UOcKAwWgq"
      },
      "source": [
        "e) Weitere Klassifikatoren. Neben der logistischen Regression, gibt es weitere Klassifikatoren. Der Random-Forest ist ein recht stabiler Klassifikator, was wäre die Performance von diesem Klassifikator."
      ]
    },
    {
      "cell_type": "code",
      "execution_count": 51,
      "metadata": {
        "id": "v0eRJVGSwWgr"
      },
      "outputs": [
        {
          "name": "stdout",
          "output_type": "stream",
          "text": [
            "Random Forest Accuracy: 0.7765363\n"
          ]
        }
      ],
      "source": [
        "from sklearn.ensemble import RandomForestClassifier\n",
        "rf = RandomForestClassifier()\n",
        "\n",
        "rf.fit(x_train_features, y_train)\n",
        "val_predictions = rf.predict(x_val_features)\n",
        "\n",
        "accuracy = accuracy_score(y_val, val_predictions)\n",
        "print(f\"Random Forest Accuracy: {accuracy:.7f}\")"
      ]
    },
    {
      "cell_type": "markdown",
      "metadata": {
        "id": "Oe_oIy11wWgr"
      },
      "source": [
        "f) [optional] Versuchen Sie weitere Features zu erzeugen und laden den besten Klassifikator auf Kaggle hoch. "
      ]
    },
    {
      "cell_type": "markdown",
      "metadata": {
        "id": "fc49pWuewWgr"
      },
      "source": [
        "## Aufgabe 3 Titanic mit Neuronalen Netzen \n",
        "\n",
        "Hinweis: Diese Aufgabe kann erst nach der dritten Vorlesung in ML gemacht werden.\n",
        "\n",
        "Mit den gleichen Daten, wie in der Aufgabe 2 d. Erstellen Sie ein fully connected neural network und fitten es an die Ttrainingsdaten. Verwenden Sie mindestens zwei hidden Layer. Plotten Sie den Verlauf der Loss Kurve für die Trainings- und Validierungsdaten. Optional: Laden Sie Ihre beste Lösung auf Kaggle hoch. "
      ]
    },
    {
      "cell_type": "code",
      "execution_count": null,
      "metadata": {
        "id": "aYxfamTkwWgr",
        "outputId": "80a28e11-8256-4ab2-97ad-8f1d0ddda78e"
      },
      "outputs": [
        {
          "name": "stdout",
          "output_type": "stream",
          "text": [
            "Model: \"sequential_1\"\n",
            "_________________________________________________________________\n",
            "Layer (type)                 Output Shape              Param #   \n",
            "=================================================================\n",
            "dense_1 (Dense)              (None, 10)                50        \n",
            "_________________________________________________________________\n",
            "dense_2 (Dense)              (None, 1)                 11        \n",
            "=================================================================\n",
            "Total params: 61\n",
            "Trainable params: 61\n",
            "Non-trainable params: 0\n",
            "_________________________________________________________________\n"
          ]
        }
      ],
      "source": [
        "#Sie können von folgendem Code starten um das Netzwerk zu definieren, füllen Sie die ...\n",
        "import tensorflow as tf\n",
        "import tensorflow.keras \n",
        "from tensorflow.keras.models import Sequential\n",
        "from tensorflow.keras.layers import Dense\n",
        "model = Sequential()\n",
        "model.add(Dense(..., activation='sigmoid', batch_input_shape=(None, 4))) #We have 4 input features\n",
        "#...\n",
        "model.add(Dense(1, activation='sigmoid'))\n",
        "opt = tf.keras.optimizers.Adam(learning_rate=1e-3)\n",
        "model.compile(loss=tf.keras.losses.BinaryCrossentropy(),\n",
        "              optimizer=opt,\n",
        "              metrics=['accuracy'])\n",
        "model.summary()"
      ]
    }
  ],
  "metadata": {
    "colab": {
      "name": "ki_ml_blatt_1.ipynb",
      "provenance": []
    },
    "kernelspec": {
      "display_name": "Python 3",
      "language": "python",
      "name": "python3"
    },
    "language_info": {
      "codemirror_mode": {
        "name": "ipython",
        "version": 3
      },
      "file_extension": ".py",
      "mimetype": "text/x-python",
      "name": "python",
      "nbconvert_exporter": "python",
      "pygments_lexer": "ipython3",
      "version": "3.13.0"
    }
  },
  "nbformat": 4,
  "nbformat_minor": 0
}
